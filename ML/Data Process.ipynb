{
 "cells": [
  {
   "cell_type": "code",
   "execution_count": 2,
   "id": "c66cbe43",
   "metadata": {},
   "outputs": [],
   "source": [
    "import pandas as pd\n",
    "import numpy as np\n",
    "import sklearn as skl\n",
    "import os"
   ]
  },
  {
   "cell_type": "code",
   "execution_count": 3,
   "id": "d148bb18",
   "metadata": {},
   "outputs": [
    {
     "name": "stdout",
     "output_type": "stream",
     "text": [
      "BB: Loaded 4 scans.\n",
      "BE: Loaded 8 scans.\n",
      "BJ: Loaded 5 scans.\n",
      "CT: Loaded 2 scans.\n",
      "DA: Loaded 2 scans.\n",
      "FJ: Loaded 2 scans.\n",
      "HD: Loaded 7 scans.\n",
      "HI: Loaded 2 scans.\n",
      "MB: Loaded 2 scans.\n",
      "SB: Loaded 4 scans.\n",
      "LK: Loaded 7 scans.\n",
      "LL: Loaded 7 scans.\n",
      "SE: Loaded 5 scans.\n",
      "SW: Loaded 2 scans.\n",
      "DJ: Loaded 2 scans.\n",
      "SJ: Loaded 5 scans.\n",
      "HR: Loaded 2 scans.\n",
      "MJ: Failed.\n",
      "Loaded 136 scans total.\n"
     ]
    }
   ],
   "source": [
    "PATIENT_PATH = \"/nv/vol141/phys_nrf/Emery/dataset/\"\n",
    "BLACKLIST=[\"MK\"]\n",
    "patient_names=list(pd.read_csv(PATIENT_PATH+\"Dates.csv\").columns)\n",
    "for name in BLACKLIST:\n",
    "    try:\n",
    "        patient_names.remove(name)\n",
    "    except:\n",
    "        print(name,\"in blacklist but not in dataset\")\n",
    "X,y=[],[]\n",
    "for name in patient_names:\n",
    "    print(name+\":\",end=' ')\n",
    "    try:\n",
    "        ITV=pd.read_csv(PATIENT_PATH+name+\"/ITV.csv\")\n",
    "        Random_ITV=pd.read_csv(PATIENT_PATH+name+\"/R_ITV.csv\")\n",
    "        print(\"Loaded\",len(ITV.columns)-1,\"scans.\")\n",
    "        keys=[]\n",
    "        for i in ITV.index:\n",
    "            try:\n",
    "                test = float(ITV[\"Pre\"][i])\n",
    "                keys.append(i)\n",
    "            except:\n",
    "                pass\n",
    "        for col in ITV.columns:\n",
    "            if not col.startswith(\"Pre\"):\n",
    "                continue\n",
    "            X.append([float(ITV[col][k]) for k in keys])\n",
    "            y.append(1)\n",
    "            X.append([float(Random_ITV[col][k]) for k in keys])\n",
    "            y.append(0)\n",
    "    except Exception as e:\n",
    "        print(\"Failed.\")\n",
    "print(\"Loaded\",len(X),\"scans total.\")"
   ]
  },
  {
   "cell_type": "code",
   "execution_count": 4,
   "id": "dc567c93",
   "metadata": {},
   "outputs": [
    {
     "name": "stdout",
     "output_type": "stream",
     "text": [
      "Number of features: 112\n"
     ]
    }
   ],
   "source": [
    "length=len(X[0])\n",
    "for i in X:\n",
    "    if not len(i)==length:\n",
    "        print(\"WARNING! Different lengths in X!\")\n",
    "X=np.array(X)\n",
    "y=np.array(y)\n",
    "print(\"Number of features:\",len(X[0]))"
   ]
  },
  {
   "cell_type": "code",
   "execution_count": 5,
   "id": "c7f7919e",
   "metadata": {},
   "outputs": [],
   "source": [
    "from sklearn.preprocessing import StandardScaler\n",
    "\n",
    "scaler=StandardScaler()\n",
    "scaler.fit(X)\n",
    "fitX=scaler.transform(X)"
   ]
  },
  {
   "cell_type": "code",
   "execution_count": 6,
   "id": "2555cc97",
   "metadata": {},
   "outputs": [],
   "source": [
    "from sklearn.svm import SVC\n",
    "import time\n",
    "#linear_SVM = SVC(kernel='linear', random_state=0)\n",
    "import random\n",
    "#fitX,y = [fitX[i] for i in rand], [y[i] for i in rand]\n",
    "\n"
   ]
  },
  {
   "cell_type": "code",
   "execution_count": 7,
   "id": "6e3d6b8c",
   "metadata": {},
   "outputs": [
    {
     "name": "stdout",
     "output_type": "stream",
     "text": [
      "Time: 4.895699078217149\n",
      "Train Accuracy: 0.931025 +/- 0.0007315363363896106\n",
      "Test Accuracy: 0.8340625 +/- 0.0029411120993357897\n"
     ]
    }
   ],
   "source": [
    "split = 120\n",
    "trials = 1000\n",
    "C=0.3\n",
    "train_results, test_results = [],[]\n",
    "\n",
    "start=time.perf_counter()\n",
    "for trial in range(trials):\n",
    "    linear_SVM = SVC(C=C, kernel='linear', random_state=0)\n",
    "    train_perf, test_perf = [],[]\n",
    "    random.seed(trial)\n",
    "    rand=[i for i in range(len(y))]\n",
    "    random.shuffle(rand)\n",
    "    train_X,train_y = [fitX[i] for i in rand], [y[i] for i in rand]\n",
    "    \n",
    "    linear_SVM.fit(train_X[:split], train_y[:split])\n",
    "    \n",
    "    pred = linear_SVM.predict(train_X)\n",
    "    for i in range(split):\n",
    "        train_results.append(int(pred[i]==train_y[i]))\n",
    "    for i in range(split,len(pred)):\n",
    "        test_results.append(int(pred[i]==train_y[i]))\n",
    "end = time.perf_counter()\n",
    "print(\"Time:\",end-start)\n",
    "print(\"Train Accuracy:\",np.mean(train_results),\"+/-\",np.std(train_results)/len(train_results)**0.5)\n",
    "print(\"Test Accuracy:\",np.mean(test_results),\"+/-\",np.std(test_results)/len(test_results)**0.5)"
   ]
  },
  {
   "cell_type": "code",
   "execution_count": 8,
   "id": "22850abf",
   "metadata": {},
   "outputs": [
    {
     "data": {
      "text/plain": [
       "RandomForestClassifier(n_estimators=200)"
      ]
     },
     "execution_count": 8,
     "metadata": {},
     "output_type": "execute_result"
    }
   ],
   "source": [
    "from sklearn.ensemble import RandomForestClassifier\n",
    "randomForest = RandomForestClassifier(n_estimators=200)\n",
    "randomForest.fit(fitX[:split],y[:split])"
   ]
  },
  {
   "cell_type": "code",
   "execution_count": 102,
   "id": "e75c0370",
   "metadata": {},
   "outputs": [
    {
     "name": "stdout",
     "output_type": "stream",
     "text": [
      "Time: 337.43502637185156\n",
      "Train Accuracy: 1.0 +/- 0.0\n",
      "Test Accuracy: 0.8586875 +/- 0.0027538981161227397\n"
     ]
    }
   ],
   "source": [
    "split = 120\n",
    "trials = 1000\n",
    "n_trees = 200\n",
    "train_results, test_results = [],[]\n",
    "\n",
    "start=time.perf_counter()\n",
    "for trial in range(trials):\n",
    "    randomForest = RandomForestClassifier(n_estimators=n_trees, criterion='gini')\n",
    "    train_perf, test_perf = [],[]\n",
    "    random.seed(trial)\n",
    "    rand=[i for i in range(len(y))]\n",
    "    random.shuffle(rand)\n",
    "    train_X,train_y = [fitX[i] for i in rand], [y[i] for i in rand]\n",
    "    \n",
    "    randomForest.fit(train_X[:split], train_y[:split])\n",
    "    \n",
    "    pred = randomForest.predict(train_X)\n",
    "    for i in range(split):\n",
    "        train_results.append(int(pred[i]==train_y[i]))\n",
    "    for i in range(split,len(pred)):\n",
    "        test_results.append(int(pred[i]==train_y[i]))\n",
    "end = time.perf_counter()\n",
    "print(\"Time:\",end-start)\n",
    "print(\"Train Accuracy:\",np.mean(train_results),\"+/-\",np.std(train_results)/len(train_results)**0.5)\n",
    "print(\"Test Accuracy:\",np.mean(test_results),\"+/-\",np.std(test_results)/len(test_results)**0.5)"
   ]
  },
  {
   "cell_type": "code",
   "execution_count": null,
   "id": "e22ca44c",
   "metadata": {},
   "outputs": [],
   "source": []
  }
 ],
 "metadata": {
  "kernelspec": {
   "display_name": "Python 3.8",
   "language": "python",
   "name": "python-3.8"
  },
  "language_info": {
   "codemirror_mode": {
    "name": "ipython",
    "version": 3
   },
   "file_extension": ".py",
   "mimetype": "text/x-python",
   "name": "python",
   "nbconvert_exporter": "python",
   "pygments_lexer": "ipython3",
   "version": "3.8.8"
  }
 },
 "nbformat": 4,
 "nbformat_minor": 5
}
