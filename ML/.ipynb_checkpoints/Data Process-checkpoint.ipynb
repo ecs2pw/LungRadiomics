{
 "cells": [
  {
   "cell_type": "code",
   "execution_count": 3,
   "id": "c66cbe43",
   "metadata": {},
   "outputs": [],
   "source": [
    "import pandas as pd\n",
    "import numpy as np\n",
    "import sklearn as skl\n",
    "import os"
   ]
  },
  {
   "cell_type": "code",
   "execution_count": 4,
   "id": "d148bb18",
   "metadata": {},
   "outputs": [
    {
     "name": "stdout",
     "output_type": "stream",
     "text": [
      "BB: Loaded 4 scans.\n",
      "BE: Loaded 8 scans.\n",
      "BJ: Loaded 5 scans.\n",
      "CT: Loaded 2 scans.\n",
      "DA: Loaded 2 scans.\n",
      "FJ: Loaded 2 scans.\n",
      "HD: Loaded 7 scans.\n",
      "HI: Loaded 2 scans.\n",
      "MB: Loaded 2 scans.\n",
      "SB: Loaded 4 scans.\n",
      "LK: Loaded 7 scans.\n",
      "LL: Loaded 7 scans.\n",
      "SE: Loaded 5 scans.\n",
      "SW: Loaded 2 scans.\n",
      "DJ: Loaded 2 scans.\n",
      "SJ: Loaded 5 scans.\n",
      "HR: Loaded 2 scans.\n",
      "MJ: Failed.\n",
      "Loaded 136 scans total.\n"
     ]
    }
   ],
   "source": [
    "PATIENT_PATH = \"/nv/vol141/phys_nrf/Emery/dataset/\"\n",
    "BLACKLIST=[\"MK\"]\n",
    "patient_names=list(pd.read_csv(PATIENT_PATH+\"Dates.csv\").columns)\n",
    "for name in BLACKLIST:\n",
    "    try:\n",
    "        patient_names.remove(name)\n",
    "    except:\n",
    "        print(name,\"in blacklist but not in dataset\")\n",
    "X,y=[],[]\n",
    "for name in patient_names:\n",
    "    print(name+\":\",end=' ')\n",
    "    try:\n",
    "        ITV=pd.read_csv(PATIENT_PATH+name+\"/ITV.csv\")\n",
    "        Random_ITV=pd.read_csv(PATIENT_PATH+name+\"/R_ITV.csv\")\n",
    "        print(\"Loaded\",len(ITV.columns)-1,\"scans.\")\n",
    "        keys=[]\n",
    "        for i in ITV.index:\n",
    "            try:\n",
    "                test = float(ITV[\"Pre\"][i])\n",
    "                keys.append(i)\n",
    "            except:\n",
    "                pass\n",
    "        for col in ITV.columns:\n",
    "            if not col.startswith(\"Pre\"):\n",
    "                continue\n",
    "            X.append([float(ITV[col][k]) for k in keys])\n",
    "            y.append(1)\n",
    "            X.append([float(Random_ITV[col][k]) for k in keys])\n",
    "            y.append(0)\n",
    "    except Exception as e:\n",
    "        print(\"Failed.\")\n",
    "print(\"Loaded\",len(X),\"scans total.\")"
   ]
  },
  {
   "cell_type": "code",
   "execution_count": 5,
   "id": "dc567c93",
   "metadata": {},
   "outputs": [],
   "source": [
    "length=len(X[0])\n",
    "for i in X:\n",
    "    if not len(i)==length:\n",
    "        print(\"WARNING! Different lengths in X!\")\n",
    "X=np.array(X)\n",
    "y=np.array(y)"
   ]
  },
  {
   "cell_type": "code",
   "execution_count": 17,
   "id": "13a2c902",
   "metadata": {},
   "outputs": [],
   "source": [
    "ignore=\"\"\"from sklearn.svm import SVC\n",
    "from sklearn.model_selection import GridSearchCV\n",
    "SVMs={}\n",
    "SVMs[\"Linear\"]=SVC(kernel='linear',random_state=0)\n",
    "paramGrid=[{\"C\":[i/20 for i in range(2,3)]}]\n",
    "print(\"Entering gridsearch\")\n",
    "gridSearch = GridSearchCV(SVMs[\"Linear\"],paramGrid, cv=5,\n",
    "                          scoring='accuracy', return_train_score=True)\n",
    "gridSearch.fit(fitX,y)\n",
    "print(gridSearch.best_params_)\n",
    "                          \"\"\"\n"
   ]
  },
  {
   "cell_type": "code",
   "execution_count": 18,
   "id": "1b41be64",
   "metadata": {},
   "outputs": [],
   "source": [
    "#fitX=X[:,:10]\n",
    "#gridSearch.fit(fitX,y)\n",
    "#print(gridSearch.best_params_)"
   ]
  },
  {
   "cell_type": "code",
   "execution_count": 42,
   "id": "878e588d",
   "metadata": {},
   "outputs": [],
   "source": [
    "from sklearn.preprocessing import StandardScaler\n",
    "\n",
    "scaler=StandardScaler()\n",
    "scaler.fit(X)\n",
    "#print(scaler.mean_)\n",
    "fitX=scaler.transform(X)"
   ]
  },
  {
   "cell_type": "code",
   "execution_count": 60,
   "id": "2555cc97",
   "metadata": {},
   "outputs": [
    {
     "name": "stdout",
     "output_type": "stream",
     "text": [
      "Fitting\n",
      "Time: 0.006505832076072693\n"
     ]
    }
   ],
   "source": [
    "from sklearn.svm import SVC\n",
    "import time\n",
    "linear_SVM = SVC(kernel='linear', random_state=0)\n",
    "print(\"Fitting\")\n",
    "start=time.perf_counter()\n",
    "split=120\n",
    "\n",
    "linear_SVM.fit(fitX[:split],y[:split])\n",
    "end=time.perf_counter()\n",
    "print(\"Time:\",end-start)"
   ]
  },
  {
   "cell_type": "code",
   "execution_count": 61,
   "id": "9e056b15",
   "metadata": {},
   "outputs": [
    {
     "name": "stdout",
     "output_type": "stream",
     "text": [
      "[1, 1, 1, 1, 1, 1, 1, 1, 1, 1, 1, 1, 1, 1, 1, 1, 1, 1, 1, 1, 1, 1, 1, 1, 1, 0, 1, 1, 1, 1, 1, 0, 1, 1, 1, 1, 0, 1, 1, 0, 1, 1, 1, 0, 1, 0, 1, 1, 1, 0, 1, 1, 1, 1, 1, 1, 1, 1, 1, 1, 1, 1, 1, 1, 1, 1, 1, 1, 1, 1, 1, 1, 1, 1, 1, 1, 1, 1, 1, 1, 1, 1, 1, 1, 1, 1, 1, 1, 1, 1, 1, 1, 1, 1, 1, 1, 1, 1, 1, 1, 1, 1, 1, 1, 1, 1, 1, 1, 1, 1, 1, 1, 1, 1, 1, 1, 1, 1, 1, 1, 1, 1, 1, 1, 1, 1, 1, 1, 1, 1, 1, 1, 1, 0, 1, 0]\n",
      "0.9416666666666667\n",
      "0.875\n"
     ]
    }
   ],
   "source": [
    "pred=linear_SVM.predict(fitX)\n",
    "perf=[]\n",
    "for i in range(len(pred)):\n",
    "    if pred[i]==y[i]:\n",
    "        perf.append(1)\n",
    "    else:\n",
    "        perf.append(0)\n",
    "print(perf)\n",
    "print(sum(perf[:split])/split)\n",
    "print(sum(perf[split:])/(136-split))\n"
   ]
  },
  {
   "cell_type": "code",
   "execution_count": null,
   "id": "4af20db7",
   "metadata": {},
   "outputs": [],
   "source": []
  }
 ],
 "metadata": {
  "kernelspec": {
   "display_name": "Python 3.8",
   "language": "python",
   "name": "python-3.8"
  }
 },
 "nbformat": 4,
 "nbformat_minor": 5
}
