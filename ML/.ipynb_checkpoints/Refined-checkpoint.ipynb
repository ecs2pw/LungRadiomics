{
 "cells": [
  {
   "cell_type": "code",
   "execution_count": 1,
   "id": "c66cbe43",
   "metadata": {},
   "outputs": [],
   "source": [
    "import pandas as pd\n",
    "import numpy as np\n",
    "import sklearn as skl\n",
    "import os"
   ]
  },
  {
   "cell_type": "code",
   "execution_count": 20,
   "id": "d148bb18",
   "metadata": {},
   "outputs": [
    {
     "name": "stdout",
     "output_type": "stream",
     "text": [
      "BE: Loaded 8 scans.\n",
      "BJ: Loaded 5 scans.\n",
      "CT: Loaded 2 scans.\n",
      "DA: Loaded 2 scans.\n",
      "FJ: Loaded 2 scans.\n",
      "HD: Loaded 7 scans.\n",
      "HI: Loaded 2 scans.\n",
      "MB: Loaded 2 scans.\n",
      "SB: Loaded 4 scans.\n",
      "LK: Loaded 7 scans.\n",
      "LL: Loaded 7 scans.\n",
      "SE: Loaded 5 scans.\n",
      "SW: Loaded 2 scans.\n",
      "DJ: Loaded 2 scans.\n",
      "SJ: Loaded 5 scans.\n",
      "HR: Loaded 2 scans.\n",
      "MJ: Failed.\n",
      "Loaded 128 scans total.\n"
     ]
    }
   ],
   "source": [
    "PATIENT_PATH = \"/nv/vol141/phys_nrf/Emery/dataset/\"\n",
    "BLACKLIST=[\"MK\",\"BB\"]\n",
    "patient_names=list(pd.read_csv(PATIENT_PATH+\"Dates.csv\").columns)\n",
    "for name in BLACKLIST:\n",
    "    try:\n",
    "        patient_names.remove(name)\n",
    "    except:\n",
    "        print(name,\"in blacklist but not in dataset\")\n",
    "X,y=[],[]\n",
    "featureNames = {}\n",
    "for name in patient_names:\n",
    "    print(name+\":\",end=' ')\n",
    "    try:\n",
    "        ITV=pd.read_csv(PATIENT_PATH+name+\"/ITV.csv\")\n",
    "        Random_ITV=pd.read_csv(PATIENT_PATH+name+\"/R_ITV.csv\")\n",
    "        print(\"Loaded\",len(ITV.columns)-1,\"scans.\")\n",
    "        keys=[]\n",
    "        for i in ITV.index:\n",
    "            try:\n",
    "                test = float(ITV[\"Pre\"][i])\n",
    "                keys.append(i)\n",
    "            except Exception as e:\n",
    "                pass\n",
    "        #print(\"got keys:\",keys)\n",
    "        for col in ITV.columns:\n",
    "            if not col.startswith(\"Pre\"):\n",
    "                continue\n",
    "            X.append([float(ITV[col][k]) for k in keys])\n",
    "            y.append(1)\n",
    "            X.append([float(Random_ITV[col][k]) for k in keys])\n",
    "            y.append(0)\n",
    "    except Exception as e:\n",
    "        print(\"Failed.\")\n",
    "print(\"Loaded\",len(X),\"scans total.\")"
   ]
  },
  {
   "cell_type": "code",
   "execution_count": 100,
   "id": "d12858aa",
   "metadata": {},
   "outputs": [],
   "source": [
    "ITV=pd.read_csv(PATIENT_PATH+patient_names[0]+\"/ITV.csv\")\n",
    "featureNamesList = ITV[\"Unnamed: 0\"]\n",
    "featureNames = {featureNamesList[i]: i for i in range(len(featureNames))}"
   ]
  },
  {
   "cell_type": "code",
   "execution_count": 88,
   "id": "dc567c93",
   "metadata": {},
   "outputs": [
    {
     "name": "stdout",
     "output_type": "stream",
     "text": [
      "Number of features: 112\n"
     ]
    }
   ],
   "source": [
    "length=len(X[0])\n",
    "for i in X:\n",
    "    if not len(i)==length:\n",
    "        print(\"WARNING! Different lengths in X!\")\n",
    "X=np.array(X)\n",
    "y=np.array(y)\n",
    "print(\"Number of features:\",len(X[0]))"
   ]
  },
  {
   "cell_type": "code",
   "execution_count": 89,
   "id": "c7f7919e",
   "metadata": {},
   "outputs": [],
   "source": [
    "from sklearn.preprocessing import StandardScaler\n",
    "\n",
    "scaler=StandardScaler()\n",
    "scaler.fit(X)\n",
    "fitX=scaler.transform(X)"
   ]
  },
  {
   "cell_type": "code",
   "execution_count": 96,
   "id": "2555cc97",
   "metadata": {},
   "outputs": [
    {
     "data": {
      "text/plain": [
       "[11,\n",
       " 12,\n",
       " 13,\n",
       " 18,\n",
       " 19,\n",
       " 22,\n",
       " 23,\n",
       " 24,\n",
       " 25,\n",
       " 26,\n",
       " 27,\n",
       " 28,\n",
       " 29,\n",
       " 30,\n",
       " 31,\n",
       " 32,\n",
       " 33,\n",
       " 34,\n",
       " 35,\n",
       " 36,\n",
       " 37,\n",
       " 38,\n",
       " 39,\n",
       " 40,\n",
       " 41,\n",
       " 42,\n",
       " 43,\n",
       " 44,\n",
       " 45,\n",
       " 46,\n",
       " 47,\n",
       " 48,\n",
       " 49,\n",
       " 50,\n",
       " 51,\n",
       " 52,\n",
       " 53,\n",
       " 54,\n",
       " 55,\n",
       " 56,\n",
       " 57,\n",
       " 58,\n",
       " 59,\n",
       " 60,\n",
       " 61,\n",
       " 62,\n",
       " 63,\n",
       " 64,\n",
       " 65,\n",
       " 66,\n",
       " 67,\n",
       " 68,\n",
       " 69,\n",
       " 70,\n",
       " 71,\n",
       " 72,\n",
       " 73,\n",
       " 74,\n",
       " 75,\n",
       " 76,\n",
       " 77,\n",
       " 78,\n",
       " 79,\n",
       " 80,\n",
       " 81,\n",
       " 82,\n",
       " 83,\n",
       " 84,\n",
       " 85,\n",
       " 86,\n",
       " 87,\n",
       " 88,\n",
       " 89,\n",
       " 90,\n",
       " 91,\n",
       " 92,\n",
       " 93,\n",
       " 94,\n",
       " 95,\n",
       " 96,\n",
       " 97,\n",
       " 98,\n",
       " 99,\n",
       " 100,\n",
       " 101,\n",
       " 102,\n",
       " 103,\n",
       " 104,\n",
       " 105,\n",
       " 106,\n",
       " 107,\n",
       " 108,\n",
       " 109,\n",
       " 110,\n",
       " 111,\n",
       " 112,\n",
       " 113,\n",
       " 114,\n",
       " 115,\n",
       " 116,\n",
       " 117,\n",
       " 118,\n",
       " 119,\n",
       " 120,\n",
       " 121,\n",
       " 122,\n",
       " 123,\n",
       " 124,\n",
       " 125,\n",
       " 126,\n",
       " 127,\n",
       " 128]"
      ]
     },
     "execution_count": 96,
     "metadata": {},
     "output_type": "execute_result"
    }
   ],
   "source": [
    "from sklearn.svm import SVC\n",
    "import time\n",
    "#linear_SVM = SVC(kernel='linear', random_state=0)\n",
    "import random\n",
    "#fitX,y = [fitX[i] for i in rand], [y[i] for i in rand]\n",
    "\n",
    "keys"
   ]
  },
  {
   "cell_type": "code",
   "execution_count": 102,
   "id": "4e9ee441",
   "metadata": {},
   "outputs": [
    {
     "name": "stdout",
     "output_type": "stream",
     "text": [
      "[6]\n"
     ]
    }
   ],
   "source": [
    "#Use All Features\n",
    "AllFeatures = [featureNamesList[i] for i in keys]\n",
    "\n",
    "#Hand Chosen Features\n",
    "HandChosen = [\"original_shape_Flatness\"]\n",
    "\n",
    "#10% From Each\n",
    "TenPercentEach = [\"original_shape_Flatness\",\"original_firstorder_Energy\",\"original_glcm_ClusterShade\",\n",
    "                  \"original_glcm_Idn\",\"original_gldm_LargeDependenceEmphasis\",\n",
    "                  \"original_glrlm_GrayLevelNonUniformity\",\"original_glszm_SizeZoneNonUniformityNormalized\"]\n",
    "\n",
    "\n",
    "#useFeatures = [\"original_shape_Flatness\"]\n",
    "\n",
    "using = HandChosen\n",
    "\n",
    "useFeatureInds = [keys.index(featureNames[i]) for i in using]\n",
    "print(useFeatureInds)\n",
    "useX = [[fitX[i][j] for j in useFeatureInds] for i in range(len(fitX))]\n",
    "useX = np.array(useX)\n",
    "#useX\n"
   ]
  },
  {
   "cell_type": "code",
   "execution_count": 103,
   "id": "6e3d6b8c",
   "metadata": {},
   "outputs": [
    {
     "name": "stdout",
     "output_type": "stream",
     "text": [
      "Time: 1.1234464086592197\n",
      "Train Accuracy: 0.5023416666666667 +/- 0.4999945165671542\n",
      "Test Accuracy: 0.332375 +/- 0.47106460212480405\n"
     ]
    }
   ],
   "source": [
    "split = 120\n",
    "trials = 1000\n",
    "C=0.3\n",
    "train_results, test_results = [],[]\n",
    "\n",
    "start=time.perf_counter()\n",
    "for trial in range(trials):\n",
    "    linear_SVM = SVC(C=C, kernel='linear', random_state=0)\n",
    "    train_perf, test_perf = [],[]\n",
    "    random.seed(trial)\n",
    "    rand=[i for i in range(len(y))]\n",
    "    random.shuffle(rand)\n",
    "    train_X,train_y = [useX[i] for i in rand], [y[i] for i in rand]\n",
    "    \n",
    "    linear_SVM.fit(train_X[:split], train_y[:split])\n",
    "    \n",
    "    pred = linear_SVM.predict(train_X)\n",
    "    for i in range(split):\n",
    "        train_results.append(int(pred[i]==train_y[i]))\n",
    "    for i in range(split,len(pred)):\n",
    "        test_results.append(int(pred[i]==train_y[i]))\n",
    "end = time.perf_counter()\n",
    "print(\"Time:\",end-start)\n",
    "print(\"Train Accuracy:\",np.mean(train_results),\"+/-\",np.std(train_results))\n",
    "print(\"Test Accuracy:\",np.mean(test_results),\"+/-\",np.std(test_results))"
   ]
  },
  {
   "cell_type": "code",
   "execution_count": 104,
   "id": "22850abf",
   "metadata": {},
   "outputs": [
    {
     "data": {
      "text/plain": [
       "RandomForestClassifier(n_estimators=200)"
      ]
     },
     "execution_count": 104,
     "metadata": {},
     "output_type": "execute_result"
    }
   ],
   "source": [
    "from sklearn.ensemble import RandomForestClassifier\n",
    "randomForest = RandomForestClassifier(n_estimators=200)\n",
    "randomForest.fit(useX[:split],y[:split])"
   ]
  },
  {
   "cell_type": "code",
   "execution_count": 105,
   "id": "e75c0370",
   "metadata": {},
   "outputs": [
    {
     "name": "stdout",
     "output_type": "stream",
     "text": [
      "Time: 4.04898089542985\n",
      "Train Accuracy: 0.9475 +/- 0.22303306929690944\n",
      "Test Accuracy: 0.45 +/- 0.4974937185533101\n"
     ]
    }
   ],
   "source": [
    "split = 120\n",
    "trials = 20\n",
    "n_trees = 200\n",
    "train_results, test_results = [],[]\n",
    "\n",
    "start=time.perf_counter()\n",
    "for trial in range(trials):\n",
    "    randomForest = RandomForestClassifier(n_estimators=n_trees, criterion='gini')\n",
    "    train_perf, test_perf = [],[]\n",
    "    random.seed(trial)\n",
    "    rand=[i for i in range(len(y))]\n",
    "    random.shuffle(rand)\n",
    "    train_X,train_y = [useX[i] for i in rand], [y[i] for i in rand]\n",
    "    \n",
    "    randomForest.fit(train_X[:split], train_y[:split])\n",
    "    \n",
    "    pred = randomForest.predict(train_X)\n",
    "    for i in range(split):\n",
    "        train_results.append(int(pred[i]==train_y[i]))\n",
    "    for i in range(split,len(pred)):\n",
    "        test_results.append(int(pred[i]==train_y[i]))\n",
    "end = time.perf_counter()\n",
    "print(\"Time:\",end-start)\n",
    "print(\"Train Accuracy:\",np.mean(train_results),\"+/-\",np.std(train_results))\n",
    "print(\"Test Accuracy:\",np.mean(test_results),\"+/-\",np.std(test_results))"
   ]
  },
  {
   "cell_type": "code",
   "execution_count": null,
   "id": "0047a424",
   "metadata": {},
   "outputs": [],
   "source": []
  }
 ],
 "metadata": {
  "kernelspec": {
   "display_name": "Python 3.8",
   "language": "python",
   "name": "python-3.8"
  },
  "language_info": {
   "codemirror_mode": {
    "name": "ipython",
    "version": 3
   },
   "file_extension": ".py",
   "mimetype": "text/x-python",
   "name": "python",
   "nbconvert_exporter": "python",
   "pygments_lexer": "ipython3",
   "version": "3.8.8"
  }
 },
 "nbformat": 4,
 "nbformat_minor": 5
}
